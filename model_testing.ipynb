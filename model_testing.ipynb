{
 "cells": [
  {
   "cell_type": "code",
   "execution_count": 64,
   "metadata": {},
   "outputs": [],
   "source": [
    "import pandas as pd\n",
    "from sklearn.model_selection import train_test_split\n",
    "from sklearn.linear_model import LinearRegression\n",
    "from sklearn.preprocessing import MinMaxScaler\n",
    "from sklearn.tree import DecisionTreeClassifier\n",
    "import numpy as np"
   ]
  },
  {
   "cell_type": "code",
   "execution_count": 36,
   "metadata": {},
   "outputs": [
    {
     "name": "stdout",
     "output_type": "stream",
     "text": [
      "<class 'pandas.core.frame.DataFrame'>\n",
      "RangeIndex: 1000 entries, 0 to 999\n",
      "Data columns (total 20 columns):\n",
      " #   Column             Non-Null Count  Dtype  \n",
      "---  ------             --------------  -----  \n",
      " 0   Unnamed: 0         1000 non-null   int64  \n",
      " 1   private            1000 non-null   bool   \n",
      " 2   fork               1000 non-null   bool   \n",
      " 3   size               1000 non-null   int64  \n",
      " 4   watchers_count     1000 non-null   int64  \n",
      " 5   has_issues         1000 non-null   bool   \n",
      " 6   has_projects       1000 non-null   bool   \n",
      " 7   has_downloads      1000 non-null   bool   \n",
      " 8   has_wiki           1000 non-null   bool   \n",
      " 9   has_pages          1000 non-null   bool   \n",
      " 10  forks_count        1000 non-null   int64  \n",
      " 11  archived           1000 non-null   bool   \n",
      " 12  disabled           1000 non-null   bool   \n",
      " 13  open_issues_count  1000 non-null   int64  \n",
      " 14  allow_forking      1000 non-null   bool   \n",
      " 15  is_template        1000 non-null   bool   \n",
      " 16  forks              1000 non-null   int64  \n",
      " 17  open_issues        1000 non-null   int64  \n",
      " 18  watchers           1000 non-null   int64  \n",
      " 19  score              1000 non-null   float64\n",
      "dtypes: bool(11), float64(1), int64(8)\n",
      "memory usage: 81.2 KB\n",
      "\n",
      "\n",
      "\n",
      "<class 'pandas.core.frame.DataFrame'>\n",
      "RangeIndex: 1000 entries, 0 to 999\n",
      "Data columns (total 1 columns):\n",
      " #   Column            Non-Null Count  Dtype\n",
      "---  ------            --------------  -----\n",
      " 0   stargazers_count  1000 non-null   int64\n",
      "dtypes: int64(1)\n",
      "memory usage: 7.9 KB\n"
     ]
    }
   ],
   "source": [
    "df = pd.read_csv(\"dataset.csv\")\n",
    "labels = pd.DataFrame(df[\"stargazers_count\"])\n",
    "df = df.drop(columns=[\"stargazers_count\", \"id\", \"full_name\"])\n",
    "\n",
    "df.info()\n",
    "print(\"\\n\\n\")\n",
    "labels.info()"
   ]
  },
  {
   "cell_type": "code",
   "execution_count": 69,
   "metadata": {},
   "outputs": [],
   "source": [
    "\n",
    "scaler = MinMaxScaler()\n",
    "\n",
    "xTrain, xTest, yTrain, yTest = train_test_split(df, labels, test_size=.2, shuffle=True)\n"
   ]
  },
  {
   "cell_type": "code",
   "execution_count": null,
   "metadata": {},
   "outputs": [],
   "source": []
  },
  {
   "cell_type": "code",
   "execution_count": 70,
   "metadata": {},
   "outputs": [
    {
     "name": "stdout",
     "output_type": "stream",
     "text": [
      "[39638. 52878. 18961. 29254. 28739. 40950. 25554. 17851. 17540. 18958.]\n",
      "[[39638]\n",
      " [52878]\n",
      " [18961]\n",
      " [29254]\n",
      " [28739]\n",
      " [40950]\n",
      " [25554]\n",
      " [17851]\n",
      " [17540]\n",
      " [18958]]\n",
      "2.6006161411973165e-20\n"
     ]
    }
   ],
   "source": [
    "model = LinearRegression()\n",
    "\n",
    "\n",
    "model.fit(xTrain, yTrain.values.ravel())\n",
    "\n",
    "predictions = model.predict(xTest)\n",
    "\n",
    "\n",
    "\n",
    "print(predictions[:10])\n",
    "print(yTest[:10].values)\n",
    "\n",
    "mse = np.mean((predictions - yTest.values.ravel())**2)\n",
    "\n",
    "print(mse)\n"
   ]
  },
  {
   "cell_type": "code",
   "execution_count": null,
   "metadata": {},
   "outputs": [],
   "source": []
  }
 ],
 "metadata": {
  "interpreter": {
   "hash": "082e9a3bcad0a290d0001e938aa60b99250c6c2ef33a923c00b70f9826caf4b7"
  },
  "kernelspec": {
   "display_name": "Python 3.8.3 64-bit",
   "language": "python",
   "name": "python3"
  },
  "language_info": {
   "codemirror_mode": {
    "name": "ipython",
    "version": 3
   },
   "file_extension": ".py",
   "mimetype": "text/x-python",
   "name": "python",
   "nbconvert_exporter": "python",
   "pygments_lexer": "ipython3",
   "version": "3.8.3"
  },
  "orig_nbformat": 4
 },
 "nbformat": 4,
 "nbformat_minor": 2
}
